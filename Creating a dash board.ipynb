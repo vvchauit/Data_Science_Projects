{
  "nbformat": 4,
  "nbformat_minor": 0,
  "metadata": {
    "kernelspec": {
      "name": "python3",
      "display_name": "Python 3.8",
      "language": "python"
    },
    "language_info": {
      "name": "python",
      "version": "3.8.10",
      "mimetype": "text/x-python",
      "codemirror_mode": {
        "name": "ipython",
        "version": 3
      },
      "pygments_lexer": "ipython3",
      "nbconvert_exporter": "python",
      "file_extension": ".py"
    },
    "colab": {
      "name": "Creating a dash board.ipynb",
      "provenance": [],
      "toc_visible": true,
      "include_colab_link": true
    }
  },
  "cells": [
    {
      "cell_type": "markdown",
      "metadata": {
        "id": "view-in-github",
        "colab_type": "text"
      },
      "source": [
        "<a href=\"https://colab.research.google.com/github/vvchauit/Data_Science_Projects/blob/main/Creating%20a%20dash%20board.ipynb\" target=\"_parent\"><img src=\"https://colab.research.google.com/assets/colab-badge.svg\" alt=\"Open In Colab\"/></a>"
      ]
    },
    {
      "cell_type": "code",
      "metadata": {
        "id": "bg5a-Wywf-ZP",
        "outputId": "91c49b2a-3c81-431e-8282-23a4feade347"
      },
      "source": [
        "# Import required libraries\n",
        "import pandas as pd\n",
        "import dash\n",
        "import dash_html_components as html\n",
        "import dash_core_components as dcc\n",
        "from dash.dependencies import Input, Output\n",
        "import plotly.express as px\n",
        "\n",
        "# Read the airline data into pandas dataframe\n",
        "spacex_df = pd.read_csv(\"spacex_launch_dash.csv\")\n",
        "max_payload = spacex_df['Payload Mass (kg)'].max()\n",
        "min_payload = spacex_df['Payload Mass (kg)'].min()\n",
        "\n",
        "# Create a dash application\n",
        "app = dash.Dash(__name__)\n",
        "\n",
        "# Create an app layout\n",
        "app.layout = html.Div(children=[html.H1('SpaceX Launch Records Dashboard',\n",
        "                                        style={'textAlign': 'center', 'color': '#503D36',\n",
        "                                               'font-size': 40}),\n",
        "                                # TASK 1: Add a dropdown list to enable Launch Site selection\n",
        "                                # The default select value is for ALL sites\n",
        "                                # dcc.Dropdown(id='site-dropdown',...)\n",
        "                                html.Br(),\n",
        "                                dcc.Dropdown(id='site-dropdown',\n",
        "                                options = [{'label': 'All Sites', 'value': 'ALL'},\n",
        "                                {'label': 'CCAFS LC-40', 'value': 'CCAFS LC-40'},\n",
        "                                {'label': 'VAFB SLC-4E', 'value': 'VAFB SLC-4E'},\n",
        "                                {'label': 'KSC LC-39A', 'value': 'KSC LC-39A'},\n",
        "                                {'label': 'CCAFS SLC-40', 'value': 'CCAFS SLC-40'}],\n",
        "                                value = 'ALL',\n",
        "                                placeholder = 'Select a Launch Site here',\n",
        "                                searchable = True),\n",
        "                                # TASK 2: Add a pie chart to show the total successful launches count for all sites\n",
        "                                # If a specific launch site was selected, show the Success vs. Failed counts for the site\n",
        "                                html.Div(dcc.Graph(id='success-pie-chart')),\n",
        "                                html.Br(),\n",
        "\n",
        "                                html.P(\"Payload range (Kg):\"),\n",
        "                                # TASK 3: Add a slider to select payload range\n",
        "                                #dcc.RangeSlider(id='payload-slider',...)\n",
        "                                dcc.RangeSlider(id='payload-silder',\n",
        "                                min=0,\n",
        "                                max=10000,\n",
        "                                step=1000,\n",
        "                                marks={0: '0', 10000: '10000'},\n",
        "                                value=[min_payload,max_payload]),\n",
        "                                # TASK 4: Add a scatter chart to show the correlation between payload and launch success\n",
        "                                html.Div(dcc.Graph(id='success-payload-scatter-chart'))\n",
        "                                ])\n",
        "\n",
        "# TASK 2:\n",
        "# Add a callback function for `site-dropdown` as input, `success-pie-chart` as output\n",
        "@app.callback(\n",
        "    Output(component_id='success-pie-chart', component_property='figure'),\n",
        "    Input(component_id='site-dropdown', component_property='value')\n",
        ")\n",
        "def generate_piechart(site):\n",
        "    if site == 'ALL':\n",
        "        fig = px.pie(spacex_df, values='class', names='Launch Site', title='Succes count for all launch sites')\n",
        "    else:\n",
        "        df_2 = spacex_df[spacex_df['Launch Site']==site]\n",
        "        df3 = df_2.groupby(['Launch Site','class']).size().reset_index(name='class count')\n",
        "        fig = px.pie(df3, values='class count', names='class', title='Total Success Launches for site '+site)\n",
        "    return fig\n",
        "# TASK 4:\n",
        "# Add a callback function for `site-dropdown` and `payload-slider` as inputs, `success-payload-scatter-chart` as output\n",
        "@app.callback(\n",
        "    Output(component_id='success-payload-scatter-chart', component_property='figure'),\n",
        "    [Input(component_id='site-dropdown', component_property='value'), \n",
        "    Input(component_id=\"payload-slider\", component_property=\"value\")]\n",
        ")\n",
        "def generate_scatter(site,payload):\n",
        "    low, high = (payload[0],payload[1])\n",
        "    mask = spacex_df[spacex_df['Payload Mass (kg)'].between(low,high)]\n",
        "    if site == 'ALL':\n",
        "        fig = px.scatter(mask, \n",
        "                        x='Payload Mass (kg)', \n",
        "                        y='class', \n",
        "                        color=\"Booster Version Category\", \n",
        "                        title=\"Correlation between Payload and Success for all sites\")\n",
        "   \n",
        "        return fig\n",
        "    else:\n",
        "        mask_filtered = mask[mask['Launch Site'] == site]\n",
        "        fig = px.scatter(mask_filtered, \n",
        "                        x='Payload Mass (kg)', \n",
        "                        y='class', \n",
        "                        color=\"Booster Version Category\", \n",
        "                        title=\"Correlation between Payload and Success for \"+site)\n",
        "        return fig\n",
        "\n",
        "\n",
        "# Run the app\n",
        "if __name__ == '__main__':\n",
        "    app.run_server()\n"
      ],
      "execution_count": null,
      "outputs": [
        {
          "output_type": "error",
          "ename": "ModuleNotFoundError",
          "evalue": "No module named 'dash'",
          "traceback": [
            "\u001b[0;31m---------------------------------------------------------------------------\u001b[0m",
            "\u001b[0;31mModuleNotFoundError\u001b[0m                       Traceback (most recent call last)",
            "\u001b[0;32m<ipython-input-1-ccc275084ce9>\u001b[0m in \u001b[0;36m<module>\u001b[0;34m\u001b[0m\n\u001b[1;32m      1\u001b[0m \u001b[0;31m# Import required libraries\u001b[0m\u001b[0;34m\u001b[0m\u001b[0;34m\u001b[0m\u001b[0;34m\u001b[0m\u001b[0m\n\u001b[1;32m      2\u001b[0m \u001b[0;32mimport\u001b[0m \u001b[0mpandas\u001b[0m \u001b[0;32mas\u001b[0m \u001b[0mpd\u001b[0m\u001b[0;34m\u001b[0m\u001b[0;34m\u001b[0m\u001b[0m\n\u001b[0;32m----> 3\u001b[0;31m \u001b[0;32mimport\u001b[0m \u001b[0mdash\u001b[0m\u001b[0;34m\u001b[0m\u001b[0;34m\u001b[0m\u001b[0m\n\u001b[0m\u001b[1;32m      4\u001b[0m \u001b[0;32mimport\u001b[0m \u001b[0mdash_html_components\u001b[0m \u001b[0;32mas\u001b[0m \u001b[0mhtml\u001b[0m\u001b[0;34m\u001b[0m\u001b[0;34m\u001b[0m\u001b[0m\n\u001b[1;32m      5\u001b[0m \u001b[0;32mimport\u001b[0m \u001b[0mdash_core_components\u001b[0m \u001b[0;32mas\u001b[0m \u001b[0mdcc\u001b[0m\u001b[0;34m\u001b[0m\u001b[0;34m\u001b[0m\u001b[0m\n",
            "\u001b[0;31mModuleNotFoundError\u001b[0m: No module named 'dash'"
          ]
        }
      ]
    },
    {
      "cell_type": "markdown",
      "metadata": {
        "id": "ak1ePvMHgXGm"
      },
      "source": [
        "##Author(s)\n",
        "Van Chau\n",
        "\n",
        "\n",
        "Change log"
      ]
    },
    {
      "cell_type": "markdown",
      "metadata": {
        "id": "2dUeFX-DhHpu"
      },
      "source": [
        "### Thank you for completing this lab!\n",
        "\n",
        "## Author\n",
        "\n",
        "<a href=\"https://www.linkedin.com/in/vanchauerpax/\" target=\"_blank\">Van Chau</a>\n",
        "\n",
        "\n",
        "## Change Log\n",
        "\n",
        "| Date (YYYY-MM-DD) | Version | Changed By    | Change Description                 |\n",
        "| ----------------- | ------- | ------------- | ---------------------------------- |\n",
        "| 2021-05-29        | 2.4     | Van Chau  | Fixed typos and code method        |\n",
        "\n",
        "\n",
        "## <h3 align=\"center\"> © IBM Corporation 2020. All rights reserved. <h3/>"
      ]
    }
  ]
}